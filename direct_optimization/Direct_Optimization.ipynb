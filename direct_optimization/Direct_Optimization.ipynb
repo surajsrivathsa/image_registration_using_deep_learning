{
  "nbformat": 4,
  "nbformat_minor": 0,
  "metadata": {
    "colab": {
      "name": "Direct Optimization.ipynb",
      "provenance": [],
      "collapsed_sections": [
        "V5yTbigaU1EI",
        "kThxybhdVAnq",
        "yb2m-Z0cDgeq",
        "gtubIUZqU3pJ",
        "iND6vl0BU6fj",
        "w68n5geH84F8",
        "wHBBFxELPKV2"
      ]
    },
    "kernelspec": {
      "name": "python3",
      "display_name": "Python 3"
    },
    "language_info": {
      "name": "python"
    },
    "accelerator": "GPU"
  },
  "cells": [
    {
      "cell_type": "markdown",
      "metadata": {
        "id": "V5yTbigaU1EI"
      },
      "source": [
        "# Preamble"
      ]
    },
    {
      "cell_type": "code",
      "metadata": {
        "colab": {
          "base_uri": "https://localhost:8080/"
        },
        "id": "M6X8Kc7sTu30",
        "outputId": "cfe7aac5-90a8-47f2-8266-36ab856dea8b"
      },
      "source": [
        "import numpy as np\n",
        "import torch\n",
        "import torch.nn as nn\n",
        "import torch.nn.functional as F\n",
        "import torch.utils.data as Data\n",
        "import torch.optim as optim\n",
        "import torchvision\n",
        "from torchvision import datasets, transforms\n",
        "from matplotlib import pyplot as plt\n",
        "from scipy.ndimage.interpolation import rotate\n",
        "import nibabel as nb\n",
        "from google.colab import drive\n",
        "import glob\n",
        "import os, sys\n",
        "drive.mount('/content/drive',  force_remount=True)"
      ],
      "execution_count": null,
      "outputs": [
        {
          "output_type": "stream",
          "name": "stdout",
          "text": [
            "Mounted at /content/drive\n"
          ]
        }
      ]
    },
    {
      "cell_type": "markdown",
      "metadata": {
        "id": "kThxybhdVAnq"
      },
      "source": [
        "# Data Reading"
      ]
    },
    {
      "cell_type": "code",
      "metadata": {
        "id": "gfyBUS1-CFLK"
      },
      "source": [
        "def load_3D( name):\n",
        "    # model_np = np.zeros(shape=(160, 192, 224))\n",
        "    # X_nb = nb.load(name)\n",
        "    # X_np = X_nb.dataobj\n",
        "    # #print(\"Oreintation: {}\".format(nb.aff2axcodes(X_nb.affine)))\n",
        "    # model_np[:, :, :] = X_np[42:202, 32:224, 16:240]\n",
        "    # #model_np = np.reshape(model_np, (1,)+ model_np.shape)\n",
        "    # return model_np\n",
        "    resamplng_shape = (128, 128, 128)\n",
        "    \n",
        "\n",
        "    X_nb = nb.load(name)\n",
        "    X_np = X_nb.dataobj\n",
        "    least_intensity = np.min(X_np)\n",
        "    model_np = np.full(shape=resamplng_shape, fill_value=least_intensity)\n",
        "\n",
        "    #X_np = imgnorm(X_np_old)\n",
        "    x_dim, y_dim, z_dim = X_np.shape\n",
        "    x_ltail = (resamplng_shape[0] - x_dim)//2 \n",
        "    y_ltail = (resamplng_shape[1] - y_dim)//2\n",
        "    z_ltail = (resamplng_shape[2] - z_dim)//2\n",
        "\n",
        "    x_rtail = resamplng_shape[0] - x_ltail - 1\n",
        "    y_rtail = resamplng_shape[1] - y_ltail - 1\n",
        "    z_rtail = resamplng_shape[2] - z_ltail - 1\n",
        "    #print(\"Oreintation: {}\".format(nb.aff2axcodes(X_nb.affine)))\n",
        "    #model_np[:, :, :] = X_np[42:202, 32:224, 16:240]\n",
        "    model_np[x_ltail:x_rtail, y_ltail:y_rtail, z_ltail:z_rtail] = X_np[:, :, :]\n",
        "    model_np = np.reshape(model_np, (1,)+ model_np.shape)\n",
        "    model_np = np.reshape(model_np, (1,)+ model_np.shape)\n",
        "    #myimg = imgnorm(model_np)\n",
        "    return model_np\n",
        "\n",
        "def load_4D(name):\n",
        "    # (256, 256, 256)\n",
        "    model_np = np.zeros(shape=(128, 128, 128))\n",
        "    X_nb = nb.load(name)\n",
        "    \n",
        "    X_np = X_nb.dataobj\n",
        "    #print(\"Oreintation: {}\".format(nb.aff2axcodes(X_nb.affine)))\n",
        "    #model_np[:, :, 0:X_np.shape[2]] = X_np[0:128, 0:128, :]\n",
        "    #model_np = np.reshape(model_np, (1,)+ model_np.shape)\n",
        "    model_np = np.reshape(X_np, (1,)+ X_np.shape)\n",
        "    model_np = np.reshape(model_np, (1,)+ model_np.shape)\n",
        "    return model_np\n",
        "\n",
        "def imgnorm(N_I,index1=0.0001,index2=0.0001):\n",
        "    I_sort = np.sort(N_I.flatten())\n",
        "    I_min = I_sort[int(index1*len(I_sort))]\n",
        "    I_max = I_sort[-int(index2*len(I_sort))]\n",
        "    N_I =1.0*(N_I-I_min)/(I_max-I_min)\n",
        "    N_I[N_I>1.0]=1.0\n",
        "    N_I[N_I<0.0]=0.0\n",
        "    N_I2 = N_I.astype(np.float32)\n",
        "    return N_I2\n",
        "\n",
        "\n",
        "def Norm_Zscore( img):\n",
        "    img= (img-np.mean(img))/np.std(img) \n",
        "    return img\n",
        "\n",
        "\n",
        "def run3functions( fp):\n",
        "    myimg = load_4D(fp)\n",
        "    myimg2 = imgnorm(myimg)\n",
        "    return myimg2\n"
      ],
      "execution_count": null,
      "outputs": []
    },
    {
      "cell_type": "code",
      "metadata": {
        "id": "BDg3BDUYkSaJ"
      },
      "source": [
        "# data_path_fixed = \"/content/drive/MyDrive/DATASET_FINAL/Test/intramodal/T1/pairwise_registered/Batch_1\"\n",
        "# data_path_moving = \"/content/drive/MyDrive/DATASET_FINAL/Test/intramodal/T1/pairwise_registered/Batch_1_F_Batch_2_M\"\n",
        "# data_path_warped = '/content/drive/MyDrive/DATASET_FINAL/Test/intramodal/T1/pairwise_registered/direct_optimization_adamw_registered_Batch1_F_Batch_2_M'\n",
        "data_path_fixed = \"/content/drive/MyDrive/DATASET_FINAL/Test/intermodal/Batch_1/T1_F_T2_M/T1\"\n",
        "data_path_moving = \"/content/drive/MyDrive/DATASET_FINAL/Test/intermodal/Batch_1/T1_F_T2_M/T2_affine\"\n",
        "data_path_warped = '/content/drive/MyDrive/DATASET_FINAL/Test/intermodal/Batch_1/direct_optimization_sgd_T1_F_T2_M'\n",
        "data_path_lst_fixed = sorted(glob.glob(os.path.join(data_path_fixed, \"*.nii.gz\")))\n",
        "data_path_lst_fixed = data_path_lst_fixed[:3]\n",
        "data_path_lst_moving = sorted(glob.glob(os.path.join(data_path_moving, \"*.nii.gz\")))\n",
        "data_path_lst_moving = data_path_lst_moving[:3]"
      ],
      "execution_count": null,
      "outputs": []
    },
    {
      "cell_type": "markdown",
      "metadata": {
        "id": "j25tUDXVmJ1a"
      },
      "source": [
        "- Create a list of deformation fields with same number as fixed images\n",
        "- Read fixed images and put the tensors into a list\n",
        "- Read moving images and put the tensors into a list\n"
      ]
    },
    {
      "cell_type": "code",
      "metadata": {
        "id": "M2ynzljYljLh"
      },
      "source": [
        "deformation_field_tnsr_lst = [ ]\n",
        "fixed_img_tnsr_lst = []\n",
        "moving_img_tnsr_lst = []\n",
        "for i in range(len(data_path_lst_fixed)):\n",
        "  deformation_field_tnsr = torch.randn(size = (1,3,128,128,128)).to(\"cuda\") * 0.00001\n",
        "  deformation_field_tnsr.requires_grad = True\n",
        "  deformation_field_tnsr_lst.append(deformation_field_tnsr)\n",
        "\n",
        "  fixed_img_tnsr = torch.from_numpy(run3functions(data_path_lst_fixed[i])).to(\"cuda\")\n",
        "  fixed_img_tnsr.requires_grad = False\n",
        "  fixed_img_tnsr_lst.append(fixed_img_tnsr)\n",
        "\n",
        "  moving_img_tnsr = torch.from_numpy(run3functions(data_path_lst_moving[i])).to(\"cuda\")\n",
        "  moving_img_tnsr.requires_grad = False\n",
        "  moving_img_tnsr_lst.append(moving_img_tnsr)\n",
        "\n",
        "\n"
      ],
      "execution_count": null,
      "outputs": []
    },
    {
      "cell_type": "markdown",
      "metadata": {
        "id": "yb2m-Z0cDgeq"
      },
      "source": [
        "# Deformation field integration"
      ]
    },
    {
      "cell_type": "code",
      "metadata": {
        "id": "r9fiuu9MDhMd"
      },
      "source": [
        "class VecInt(nn.Module):\n",
        "    \"\"\"\n",
        "    Integrates a vector field via scaling and squaring.\n",
        "    \"\"\"\n",
        "\n",
        "    def __init__(self, inshape, nsteps):\n",
        "        super().__init__()\n",
        "        \n",
        "        assert nsteps >= 0, 'nsteps should be >= 0, found: %d' % nsteps\n",
        "        self.nsteps = nsteps\n",
        "        self.scale = 1.0 / (2 ** self.nsteps)\n",
        "        self.transformer = SpatialTransformer(size = inshape)\n",
        "\n",
        "    def forward(self, vec):\n",
        "        vec = vec * self.scale\n",
        "        for _ in range(self.nsteps):\n",
        "            vec = vec + self.transformer(vec, vec)\n",
        "        return vec\n",
        "\n",
        "\n",
        "class ResizeTransform(nn.Module):\n",
        "    \"\"\"\n",
        "    Resize a transform, which involves resizing the vector field *and* rescaling it.\n",
        "    \"\"\"\n",
        "\n",
        "    def __init__(self, vel_resize, ndims):\n",
        "        super().__init__()\n",
        "        self.factor = 1.0 / vel_resize\n",
        "        self.mode = 'linear'\n",
        "        if ndims == 2:\n",
        "            self.mode = 'bi' + self.mode\n",
        "        elif ndims == 3:\n",
        "            self.mode = 'tri' + self.mode\n",
        "\n",
        "    def forward(self, x):\n",
        "        if self.factor < 1:\n",
        "            # resize first to save memory\n",
        "            x = F.interpolate(x, align_corners=True, scale_factor=self.factor, mode=self.mode, recompute_scale_factor=True)\n",
        "            x = self.factor * x\n",
        "\n",
        "        elif self.factor > 1:\n",
        "            # multiply first to save memory\n",
        "            x = self.factor * x\n",
        "            x = F.interpolate(x, align_corners=True, scale_factor=self.factor, mode=self.mode, recompute_scale_factor=True)\n",
        "\n",
        "        # don't do anything if resize is 1\n",
        "        return x"
      ],
      "execution_count": null,
      "outputs": []
    },
    {
      "cell_type": "markdown",
      "metadata": {
        "id": "gtubIUZqU3pJ"
      },
      "source": [
        "# Losses"
      ]
    },
    {
      "cell_type": "code",
      "metadata": {
        "id": "M6VWjCo3U6AT"
      },
      "source": [
        "class NormalizedCrossCorrelation(nn.Module):\n",
        "    \"\"\" N-dimensional normalized cross correlation (NCC)\n",
        "    Args:\n",
        "        eps (float, optional): Epsilon value for numerical stability. Defaults to 1e-8.\n",
        "        return_map (bool, optional): If True, also return the correlation map. Defaults to False.\n",
        "        reduction (str, optional): Specifies the reduction to apply to the output:\n",
        "            ``'mean'`` | ``'sum'``. Defaults to ``'mean'``.\n",
        "    \"\"\"\n",
        "    def __init__(self,\n",
        "                 eps=1e-8,\n",
        "                 return_map=False,\n",
        "                 reduction='mean'):\n",
        "\n",
        "        super(NormalizedCrossCorrelation, self).__init__()\n",
        "\n",
        "        self._eps = eps\n",
        "        self._return_map = return_map\n",
        "        self._reduction = reduction\n",
        "\n",
        "    def forward(self, x, y):\n",
        "\n",
        "        return normalized_cross_correlation(x, y,self._return_map, self._reduction, self._eps)"
      ],
      "execution_count": null,
      "outputs": []
    },
    {
      "cell_type": "code",
      "metadata": {
        "id": "MZz6-oQ7U6D-"
      },
      "source": [
        "def normalized_cross_correlation(x, y, return_map, reduction='mean', eps=1e-8):\n",
        "    \"\"\" N-dimensional normalized cross correlation (NCC)\n",
        "    Args:\n",
        "        x (~torch.Tensor): Input tensor.\n",
        "        y (~torch.Tensor): Input tensor.\n",
        "        return_map (bool): If True, also return the correlation map.\n",
        "        reduction (str, optional): Specifies the reduction to apply to the output:\n",
        "            ``'mean'`` | ``'sum'``. Defaults to ``'sum'``.\n",
        "        eps (float, optional): Epsilon value for numerical stability. Defaults to 1e-8.\n",
        "    Returns:\n",
        "        ~torch.Tensor: Output scalar\n",
        "        ~torch.Tensor: Output tensor\n",
        "    \"\"\"\n",
        "\n",
        "    shape = x.shape\n",
        "    b = shape[0]\n",
        "\n",
        "    # reshape\n",
        "    x = x.view(b, -1)\n",
        "    y = y.view(b, -1)\n",
        "\n",
        "    # mean\n",
        "    x_mean = torch.mean(x, dim=1, keepdim=True)\n",
        "    y_mean = torch.mean(y, dim=1, keepdim=True)\n",
        "\n",
        "    # deviation\n",
        "    x = x - x_mean\n",
        "    y = y - y_mean\n",
        "\n",
        "    dev_xy = torch.mul(x,y)\n",
        "    dev_xx = torch.mul(x,x)\n",
        "    dev_yy = torch.mul(y,y)\n",
        "\n",
        "    dev_xx_sum = torch.sum(dev_xx, dim=1, keepdim=True)\n",
        "    dev_yy_sum = torch.sum(dev_yy, dim=1, keepdim=True)\n",
        "\n",
        "    ncc = torch.div(dev_xy + eps / dev_xy.shape[1],\n",
        "                    torch.sqrt( torch.mul(dev_xx_sum, dev_yy_sum)) + eps)\n",
        "    ncc_map = ncc.view(b, *shape[1:])\n",
        "\n",
        "    # reduce\n",
        "    if reduction == 'mean':\n",
        "        ncc = torch.mean(torch.sum(ncc, dim=1))\n",
        "    elif reduction == 'sum':\n",
        "        ncc = torch.sum(ncc)\n",
        "    else:\n",
        "        raise KeyError('unsupported reduction type: %s' % reduction)\n",
        "\n",
        "    if not return_map:\n",
        "        return ncc\n",
        "    \n",
        "    if (torch.isclose(torch.tensor([-1.0]).to(\"cuda\"), ncc).any()):\n",
        "      ncc = ncc + torch.tensor([0.01]).to(\"cuda\")\n",
        "\n",
        "    elif (torch.isclose(torch.tensor([1.0]).to(\"cuda\"), ncc).any()):\n",
        "      ncc = ncc - torch.tensor([0.01]).to(\"cuda\")\n",
        "\n",
        "    return ncc, ncc_map\n"
      ],
      "execution_count": null,
      "outputs": []
    },
    {
      "cell_type": "code",
      "metadata": {
        "id": "LBbo3fP5WVem"
      },
      "source": [
        "def mae_loss(input, target):\n",
        "    y_true_f = input.view(-1)\n",
        "    y_pred_f = target.view(-1)\n",
        "    diff = torch.abs(y_true_f-y_pred_f)\n",
        "    mae = diff.mean() \n",
        "    return mae"
      ],
      "execution_count": null,
      "outputs": []
    },
    {
      "cell_type": "code",
      "metadata": {
        "id": "Kql7udyrWVhg"
      },
      "source": [
        "class Grad:\n",
        "    \"\"\"\n",
        "    N-D gradient loss.\n",
        "    \"\"\"\n",
        "\n",
        "    def __init__(self, penalty='l1', loss_mult=None):\n",
        "        self.penalty = penalty\n",
        "        self.loss_mult = loss_mult\n",
        "        super(Grad, self).__init__()\n",
        "\n",
        "    def loss(self, _, y_pred):\n",
        "        dy = torch.abs(y_pred[:, :, 1:, :, :] - y_pred[:, :, :-1, :, :])\n",
        "        dx = torch.abs(y_pred[:, :, :, 1:, :] - y_pred[:, :, :, :-1, :])\n",
        "        dz = torch.abs(y_pred[:, :, :, :, 1:] - y_pred[:, :, :, :, :-1])\n",
        "\n",
        "        if self.penalty == 'l2':\n",
        "            dy = dy * dy\n",
        "            dx = dx * dx\n",
        "            dz = dz * dz\n",
        "\n",
        "        d = torch.mean(dx) + torch.mean(dy) + torch.mean(dz)\n",
        "        grad = d / 3.0\n",
        "\n",
        "        if self.loss_mult is not None:\n",
        "            grad *= self.loss_mult\n",
        "        return grad"
      ],
      "execution_count": null,
      "outputs": []
    },
    {
      "cell_type": "code",
      "metadata": {
        "id": "oJRZEadTFay7"
      },
      "source": [
        "\n",
        "\n",
        "class MutualInformation(nn.Module):\n",
        "\n",
        "\tdef __init__(self, sigma=0.4, num_bins=30, normalize=True):\n",
        "\t\tsuper(MutualInformation, self).__init__()\n",
        "\n",
        "\t\tself.sigma = 2*sigma**2\n",
        "\t\tself.num_bins = num_bins\n",
        "\t\tself.normalize = normalize\n",
        "\t\tself.epsilon = 1e-10\n",
        "\n",
        "\t\tself.bins = nn.Parameter(torch.linspace(0, 255.0, num_bins, device='cuda').float(), requires_grad=True)\n",
        "\n",
        "\n",
        "\tdef marginalPdf(self, values):\n",
        "\n",
        "\t\tresiduals = values - self.bins.unsqueeze(0).unsqueeze(0)\n",
        "\t\tkernel_values = torch.exp(-0.5*(residuals / self.sigma).pow(2))\n",
        "\t\t\n",
        "\t\tpdf = torch.mean(kernel_values, dim=1)\n",
        "\t\tnormalization = torch.sum(pdf, dim=1).unsqueeze(1) + self.epsilon\n",
        "\t\tpdf = pdf / normalization\n",
        "\t\t\n",
        "\t\treturn pdf, kernel_values\n",
        "\n",
        "\n",
        "\tdef jointPdf(self, kernel_values1, kernel_values2):\n",
        "\n",
        "\t\tjoint_kernel_values = torch.matmul(kernel_values1.transpose(1, 2), kernel_values2) \n",
        "\t\tnormalization = torch.sum(joint_kernel_values, dim=(1,2)).view(-1, 1, 1) + self.epsilon\n",
        "\t\tpdf = joint_kernel_values / normalization\n",
        "\n",
        "\t\treturn pdf\n",
        "\n",
        "\n",
        "\tdef getMutualInformation(self, input1, input2):\n",
        "\t\t'''\n",
        "\t\t\tinput1: B, C, H, W, D\n",
        "\t\t\tinput2: B, C, H, W, D\n",
        "\t\t\treturn: scalar\n",
        "\t\t'''\n",
        "\n",
        "\t\t# Torch tensors for images between (0, 1)\n",
        "\t\tinput1 = input1*255\n",
        "\t\tinput2 = input2*255\n",
        "\n",
        "\t\tB, C, H, W, D = input1.shape\n",
        "\n",
        "\t\tx1 = input1.view(B, H*W*D, C)\n",
        "\t\tx2 = input2.view(B, H*W*D, C)\n",
        "\t\t\n",
        "\t\tpdf_x1, kernel_values1 = self.marginalPdf(x1)\n",
        "\t\tpdf_x2, kernel_values2 = self.marginalPdf(x2)\n",
        "\t\tpdf_x1x2 = self.jointPdf(kernel_values1, kernel_values2)\n",
        "\n",
        "\t\tH_x1 = -torch.sum(pdf_x1*torch.log2(pdf_x1 + self.epsilon), dim=1)\n",
        "\t\tH_x2 = -torch.sum(pdf_x2*torch.log2(pdf_x2 + self.epsilon), dim=1)\n",
        "\t\tH_x1x2 = -torch.sum(pdf_x1x2*torch.log2(pdf_x1x2 + self.epsilon), dim=(1,2))\n",
        "\n",
        "\t\tmutual_information = H_x1 + H_x2 - H_x1x2\n",
        "\t\t\n",
        "\t\tif self.normalize:\n",
        "\t\t\tmutual_information = 2*mutual_information/(H_x1+H_x2)\n",
        "\n",
        "\t\treturn mutual_information\n",
        "\n",
        "\n",
        "\tdef forward(self, input1, input2):\n",
        "\t\t'''\n",
        "\t\t\tinput1: B, C, H, W\n",
        "\t\t\tinput2: B, C, H, W\n",
        "\t\t\treturn: scalar\n",
        "\t\t'''\n",
        "\t\treturn self.getMutualInformation(input1, input2)\n"
      ],
      "execution_count": null,
      "outputs": []
    },
    {
      "cell_type": "code",
      "metadata": {
        "id": "cHna-N18HSR5",
        "colab": {
          "base_uri": "https://localhost:8080/"
        },
        "outputId": "ab48d220-1642-4c9b-e076-d9e6016b56c3"
      },
      "source": [
        "nmi = MutualInformation()\n",
        "nmi_similarity = nmi(fixed_img_tnsr_lst[0].contiguous(),moving_img_tnsr_lst[2].contiguous() )\n",
        "nmi_similarity"
      ],
      "execution_count": null,
      "outputs": [
        {
          "output_type": "execute_result",
          "data": {
            "text/plain": [
              "tensor([1.5519], device='cuda:0', grad_fn=<DivBackward0>)"
            ]
          },
          "metadata": {},
          "execution_count": 51
        }
      ]
    },
    {
      "cell_type": "markdown",
      "metadata": {
        "id": "iND6vl0BU6fj"
      },
      "source": [
        "# Spatial Transformer"
      ]
    },
    {
      "cell_type": "code",
      "metadata": {
        "id": "1R863r0qVLUi"
      },
      "source": [
        "class SpatialTransformer(nn.Module):\n",
        "    \"\"\"\n",
        "    N-D Spatial Transformer\n",
        "    \"\"\"\n",
        "\n",
        "    def __init__(self, size, is_affine=False, theta = None, mode='bilinear', affine_image_size =  (1, 1, 128, 128, 128)):\n",
        "        super().__init__()\n",
        "\n",
        "        self.mode = mode\n",
        "        self.isaffine = is_affine\n",
        "        self.theta = theta\n",
        "        self.affine_image_size =  affine_image_size\n",
        "        # create sampling grid\n",
        "        # registering the grid as a buffer cleanly moves it to the GPU, but it also\n",
        "        # adds it to the state dict. this is annoying since everything in the state dict\n",
        "        # is included when saving weights to disk, so the model files are way bigger\n",
        "        # than they need to be. so far, there does not appear to be an elegant solution.\n",
        "        # see: https://discuss.pytorch.org/t/how-to-register-buffer-without-polluting-state-dict\n",
        "\n",
        "        if (self.isaffine):\n",
        "          grid = F.affine_grid(self.theta, self.affine_image_size, align_corners=False)\n",
        "          #grid = grid.permute(0, 4, 1, 2, 3)\n",
        "          self.register_buffer('grid', grid)\n",
        "        else:\n",
        "          vectors = [torch.arange(0, s) for s in size]\n",
        "          grids = torch.meshgrid(vectors)\n",
        "          grid = torch.stack(grids)\n",
        "          grid = torch.unsqueeze(grid, 0)\n",
        "          grid = grid.type(torch.FloatTensor)\n",
        "          self.register_buffer('grid', grid)\n",
        "          # print(grid)\n",
        "\n",
        "    def forward(self, src, flow=None):      \n",
        "      if (self.isaffine):\n",
        "        grid = F.affine_grid(self.theta, self.affine_image_size)    \n",
        "        # print(grid)    \n",
        "        warped_image = F.grid_sample(src, grid)\n",
        "        #warped_image = warped_image.permute(0, 4, 1, 2, 3)\n",
        "        return warped_image\n",
        "      else:\n",
        "        # new locations\n",
        "        # print(grid)\n",
        "        new_locs = self.grid + flow\n",
        "        shape = flow.shape[2:]\n",
        "\n",
        "        # need to normalize grid values to [-1, 1] for resampler\n",
        "        for i in range(len(shape)):\n",
        "            new_locs[:, i, ...] = 2 * (new_locs[:, i, ...] / (shape[i] - 1) - 0.5)\n",
        "\n",
        "        # move channels dim to last position\n",
        "        # also not sure why, but the channels need to be reversed\n",
        "        if len(shape) == 2:\n",
        "            new_locs = new_locs.permute(0, 2, 3, 1)\n",
        "            new_locs = new_locs[..., [1, 0]]\n",
        "        elif len(shape) == 3:\n",
        "            new_locs = new_locs.permute(0, 2, 3, 4, 1)\n",
        "            new_locs = new_locs[..., [2, 1, 0]]\n",
        "\n",
        "        return F.grid_sample(src, new_locs, align_corners=True, mode=self.mode)"
      ],
      "execution_count": null,
      "outputs": []
    },
    {
      "cell_type": "code",
      "metadata": {
        "id": "h3JjPkJqVLaH"
      },
      "source": [
        "spatial_transformer_deformable = SpatialTransformer(size=(128, 128, 128), is_affine=False, affine_image_size =  (1, 1, 128, 128, 128)).to(\"cuda\")\n",
        "for param in spatial_transformer_deformable.parameters():\n",
        "  param.requires_grad = False\n",
        "  param.volatile=True"
      ],
      "execution_count": null,
      "outputs": []
    },
    {
      "cell_type": "markdown",
      "metadata": {
        "id": "s8a6YmLkVchN"
      },
      "source": [
        "# Training"
      ]
    },
    {
      "cell_type": "markdown",
      "metadata": {
        "id": "qXgU9Wh7oBP6"
      },
      "source": [
        "initialize losses"
      ]
    },
    {
      "cell_type": "code",
      "metadata": {
        "id": "guuteOOMaREn"
      },
      "source": [
        "smoothness_loss = Grad(penalty='l2')\n",
        "# similarity_loss = NormalizedCrossCorrelation().to(\"cuda\")\n",
        "similarity_loss = MutualInformation().to(\"cuda\")"
      ],
      "execution_count": null,
      "outputs": []
    },
    {
      "cell_type": "markdown",
      "metadata": {
        "id": "wLsfcBg5oItk"
      },
      "source": [
        "initialize optimizers and learning rate"
      ]
    },
    {
      "cell_type": "code",
      "metadata": {
        "id": "VgvYk-21qRrD"
      },
      "source": [
        "adadelta_learning_rate = 1e-3\n",
        "adagrad_learning_rate = 1e-3\n",
        "adam_learning_rate = 1e-3\n",
        "adamw_learning_rate = 1e-3\n",
        "rmsprop_learning_rate = 1e-3\n",
        "sgd_learning_rate = 1e-3"
      ],
      "execution_count": null,
      "outputs": []
    },
    {
      "cell_type": "code",
      "metadata": {
        "id": "l7enMSXTqAc_"
      },
      "source": [
        "optimizer_dict = {'optimizer_adadelta': [ torch.optim.Adadelta([deformation_field], lr=adadelta_learning_rate) for deformation_field in deformation_field_tnsr_lst],\n",
        "                  'optimizer_adagrad': [ torch.optim.Adagrad([deformation_field], lr=adagrad_learning_rate) for deformation_field in deformation_field_tnsr_lst],\n",
        "                  'optimizer_adam': [ torch.optim.Adam([deformation_field], lr=adam_learning_rate) for deformation_field in deformation_field_tnsr_lst],\n",
        "                  'optimizer_adamw': [ torch.optim.Adam([deformation_field], lr=adamw_learning_rate) for deformation_field in deformation_field_tnsr_lst],\n",
        "                  'optimizer_rmsprop': [ torch.optim.RMSprop([deformation_field], lr=rmsprop_learning_rate) for deformation_field in deformation_field_tnsr_lst],\n",
        "                  'optimizer_sgd': [ torch.optim.SGD([deformation_field], lr=sgd_learning_rate) for deformation_field in deformation_field_tnsr_lst]\n",
        "                  }"
      ],
      "execution_count": null,
      "outputs": []
    },
    {
      "cell_type": "code",
      "metadata": {
        "id": "tloIQTgTunhE"
      },
      "source": [
        "scheduler_lst = [torch.optim.lr_scheduler.ExponentialLR(optimizer, gamma=0.99) for optimizer in optimizer_dict['optimizer_adamw']]"
      ],
      "execution_count": null,
      "outputs": []
    },
    {
      "cell_type": "markdown",
      "metadata": {
        "id": "8uE8PBKptqeQ"
      },
      "source": [
        "Adding vector integration code, this enforces diffeomorphic transform"
      ]
    },
    {
      "cell_type": "code",
      "metadata": {
        "id": "SxWpUFhCtq3Q"
      },
      "source": [
        "dim = 3\n",
        "int_downsize = 2\n",
        "down_shape = [int(dim/ int_downsize) for dim in (128, 128, 128)]\n",
        "resize = ResizeTransform(2, 3).to(\"cuda\")\n",
        "fullsize = ResizeTransform(0.5, 3).to(\"cuda\")\n",
        "integrate = VecInt(down_shape, 7).to(\"cuda\")"
      ],
      "execution_count": null,
      "outputs": []
    },
    {
      "cell_type": "markdown",
      "metadata": {
        "id": "92N5wUsZ9GGY"
      },
      "source": [
        "function that optimizers for one image pair"
      ]
    },
    {
      "cell_type": "code",
      "metadata": {
        "id": "QNkptfFRxSEX"
      },
      "source": [
        "def optimize_one_image_pair(fixed_img_tnsr, moving_img_tnsr, deformation_field, optimizer = optimizer_dict['optimizer_adam'][0], scheduler = scheduler_lst[0], epochs=1001, decay_flag=False):\n",
        "  optimized_deformation_field_lst = []\n",
        "  loss_lst = []\n",
        "  for step in range(epochs):\n",
        "    \n",
        "    # Find warped image given moving image from spatial transformer\n",
        "    pos_flow = resize(deformation_field)\n",
        "    integrated_pos_flow = integrate(pos_flow)\n",
        "    full_flow = fullsize(integrated_pos_flow)\n",
        "    warped_image_tensor = spatial_transformer_deformable(moving_img_tnsr.contiguous(), full_flow)\n",
        "    \n",
        "    # Find loss between warped image and fixed image\n",
        "    similarity_loss_ncc = 1.0 * similarity_loss(fixed_img_tnsr.contiguous(), warped_image_tensor.contiguous())\n",
        "    sm_loss =  0.5 * smoothness_loss.loss(\"\",deformation_field)\n",
        "    #  similarity_loss_mae = 0.1 * mae_loss(fixed_img_tnsr.contiguous(), warped_image_tensor.contiguous())\n",
        "    similarity_loss_mae = 0.0\n",
        "    total_loss = similarity_loss_ncc + sm_loss # + similarity_loss_mae\n",
        "\n",
        "    # Backpropagate loss through network\n",
        "    optimizer.zero_grad()          \n",
        "    total_loss.backward()\n",
        "    optimizer.step()\n",
        "\n",
        "    # Decay if the falg is true\n",
        "    if decay_flag:\n",
        "      scheduler.step()\n",
        "\n",
        "    # Log losses\n",
        "    if (step % 500 == 0):\n",
        "      # loss_lst.append(step, similarity_loss_ncc, sm_loss, similarity_loss_mae, total_loss)\n",
        "      print(\"losses at {} are {}, {}, {} and {}\".format(step, similarity_loss_ncc, sm_loss, similarity_loss_mae, total_loss))\n",
        "\n",
        "    # Save deformation field every multiple of 500 epoch that is 500,1000,1500,2000\n",
        "    if (step % 500 == 0) and (step > 0):\n",
        "      # deformation_field_detached = deformation_field.detach()\n",
        "      # optimized_deformation_field_lst.append(deformation_field_detached)\n",
        "      pass\n",
        "    \n",
        "    # delete unused warped image to save memeory\n",
        "    del warped_image_tensor\n",
        "\n",
        "  # Save deformation field\n",
        "  deformation_field_detached = deformation_field.detach()\n",
        "  optimized_deformation_field_lst.append(deformation_field_detached)\n",
        "\n",
        "  # clear memory of deformation field\n",
        "  del deformation_field\n",
        "\n",
        "  return (optimized_deformation_field_lst, loss_lst)"
      ],
      "execution_count": null,
      "outputs": []
    },
    {
      "cell_type": "markdown",
      "metadata": {
        "id": "P7hriLRl9AZR"
      },
      "source": [
        "function that saves the warped images for the list of deformation fields in the folder path"
      ]
    },
    {
      "cell_type": "code",
      "metadata": {
        "id": "bIfUI7HD4Xyv"
      },
      "source": [
        "def generate_and_save_warped_images( fixed_img_path, moving_img_path, fixed_img_tnsr, moving_img_tnsr, optimized_deformation_field_lst, data_path_warped=data_path_warped):\n",
        "  fixed_image_name = os.path.basename(fixed_img_path).replace('.nii.gz', '')\n",
        "  moving_image_name = os.path.basename(moving_img_path).replace('.nii.gz', '')\n",
        "  warped_image_name = fixed_image_name + \"|\" + moving_image_name\n",
        "  counter = 1\n",
        "  for deformation_field in optimized_deformation_field_lst:\n",
        "    pos_flow = resize(deformation_field)\n",
        "    integrated_pos_flow = integrate(pos_flow)\n",
        "    full_flow = fullsize(integrated_pos_flow)\n",
        "    warped_img_tnsr = spatial_transformer_deformable(moving_img_tnsr, full_flow)\n",
        "    warped_img_np = warped_img_tnsr.to(\"cpu\").numpy()\n",
        "    warped_img_nb = nb.Nifti1Image(warped_img_np[0,0,:,:,:], np.eye(4))\n",
        "    nb.save(warped_img_nb, os.path.join(data_path_warped , warped_image_name + \"_\" + str(counter) + \".nii.gz\"))\n",
        "    counter = counter + 1\n",
        "  \n",
        "  return\n"
      ],
      "execution_count": null,
      "outputs": []
    },
    {
      "cell_type": "markdown",
      "metadata": {
        "id": "7HMOgagXvEmv"
      },
      "source": [
        "function that does below stuff\n",
        "- takes list of fixed images, moving images and deformation fields\n",
        "- uses respective optimizer, decay to train on an image pair for defined epochs\n",
        "- saves the warped image every few epochs"
      ]
    },
    {
      "cell_type": "code",
      "metadata": {
        "id": "U_J-4bwvuDu1"
      },
      "source": [
        "def direct_optimization_training(deformation_field_tnsr_lst = deformation_field_tnsr_lst, fixed_img_tnsr_lst = fixed_img_tnsr_lst,\n",
        "                                 moving_img_tnsr_lst = moving_img_tnsr_lst, optimizer = optimizer_dict['optimizer_adam'], \n",
        "                                 decay=scheduler_lst, epochs = 1001, decay_flag=False):\n",
        "  losses_dict = {}\n",
        "  counter = 0\n",
        "  for fixed_img_path, moving_img_path, fixed_img_tnsr, moving_img_tnsr, deformation_field in zip(data_path_lst_fixed, data_path_lst_moving,fixed_img_tnsr_lst, moving_img_tnsr_lst, deformation_field_tnsr_lst):\n",
        "    fixed_image_name = os.path.basename(fixed_img_path).replace(\".nii.gz\", \"\")\n",
        "    moving_image_name = os.path.basename(moving_img_path).replace(\".nii.gz\", \"\")\n",
        "    warped_image_name = fixed_image_name + \"|\" + moving_image_name\n",
        "\n",
        "    print(\"Optimizing {} image pair for {}, {}\".format(counter, fixed_image_name, moving_image_name ))\n",
        "\n",
        "    # obtain a list of deformation field at multiple of 500 epochs and also losses list at every multiple of 100th epoch\n",
        "    optimized_deformation_field_lst, loss_lst = optimize_one_image_pair(fixed_img_tnsr, moving_img_tnsr, deformation_field, \n",
        "                                                                        optimizer = optimizer[counter], scheduler = scheduler_lst[counter], \n",
        "                                                                        epochs=epochs, decay_flag=decay_flag)\n",
        "    \n",
        "    # saving the warped images for specific epoch deformation fields in the folder path\n",
        "    generate_and_save_warped_images(fixed_img_path, moving_img_path, fixed_img_tnsr, moving_img_tnsr, optimized_deformation_field_lst)\n",
        "\n",
        "    losses_dict[warped_image_name] = loss_lst\n",
        "    print(\"\")\n",
        "    print(\" ============ ================== ============== =============== ============ ================ ================ \")\n",
        "    print(\"\")\n",
        "    \n",
        "    counter = counter + 1\n",
        "\n",
        "    del optimized_deformation_field_lst\n",
        "  \n",
        "  return losses_dict\n",
        "    "
      ],
      "execution_count": null,
      "outputs": []
    },
    {
      "cell_type": "code",
      "metadata": {
        "colab": {
          "base_uri": "https://localhost:8080/"
        },
        "id": "kNi7mT99uD0L",
        "outputId": "a115c696-15bd-4302-d35d-815ac919775b"
      },
      "source": [
        "losses_dict = direct_optimization_training(deformation_field_tnsr_lst = deformation_field_tnsr_lst, fixed_img_tnsr_lst = fixed_img_tnsr_lst,\n",
        "                                 moving_img_tnsr_lst = moving_img_tnsr_lst, optimizer = optimizer_dict['optimizer_rmsprop'], epochs = 1001)"
      ],
      "execution_count": null,
      "outputs": [
        {
          "output_type": "stream",
          "name": "stdout",
          "text": [
            "Optimizing 0 image pair for IXI044-Guys-0712-T1, IXI044-Guys-0712-T2\n",
            "losses at 0 are tensor([1.7297], device='cuda:0', grad_fn=<MulBackward0>), 1.0003470274355664e-10, 0.0 and tensor([1.7297], device='cuda:0', grad_fn=<AddBackward0>)\n",
            "losses at 500 are tensor([1.1198], device='cuda:0', grad_fn=<MulBackward0>), 0.0008038009400479496, 0.0 and tensor([1.1207], device='cuda:0', grad_fn=<AddBackward0>)\n",
            "losses at 1000 are tensor([1.0793], device='cuda:0', grad_fn=<MulBackward0>), 0.0014493637718260288, 0.0 and tensor([1.0808], device='cuda:0', grad_fn=<AddBackward0>)\n",
            "\n",
            " ============ ================== ============== =============== ============ ================ ================ \n",
            "\n",
            "Optimizing 1 image pair for IXI054-Guys-0707-T1, IXI054-Guys-0707-T2\n",
            "losses at 0 are tensor([1.7781], device='cuda:0', grad_fn=<MulBackward0>), 1.000449445509588e-10, 0.0 and tensor([1.7781], device='cuda:0', grad_fn=<AddBackward0>)\n",
            "losses at 500 are tensor([1.2108], device='cuda:0', grad_fn=<MulBackward0>), 0.0006900625303387642, 0.0 and tensor([1.2115], device='cuda:0', grad_fn=<AddBackward0>)\n",
            "losses at 1000 are tensor([1.1721], device='cuda:0', grad_fn=<MulBackward0>), 0.0012348524760454893, 0.0 and tensor([1.1734], device='cuda:0', grad_fn=<AddBackward0>)\n",
            "\n",
            " ============ ================== ============== =============== ============ ================ ================ \n",
            "\n",
            "Optimizing 2 image pair for IXI061-Guys-0715-T1, IXI061-Guys-0715-T2\n",
            "losses at 0 are tensor([1.7770], device='cuda:0', grad_fn=<MulBackward0>), 9.998901012719941e-11, 0.0 and tensor([1.7770], device='cuda:0', grad_fn=<AddBackward0>)\n",
            "losses at 500 are tensor([1.2503], device='cuda:0', grad_fn=<MulBackward0>), 0.0009345798753201962, 0.0 and tensor([1.2512], device='cuda:0', grad_fn=<AddBackward0>)\n",
            "losses at 1000 are tensor([1.2080], device='cuda:0', grad_fn=<MulBackward0>), 0.0017848375719040632, 0.0 and tensor([1.2098], device='cuda:0', grad_fn=<AddBackward0>)\n",
            "\n",
            " ============ ================== ============== =============== ============ ================ ================ \n",
            "\n"
          ]
        }
      ]
    },
    {
      "cell_type": "markdown",
      "metadata": {
        "id": "BE0aKbWGJWn9"
      },
      "source": [
        "yy"
      ]
    },
    {
      "cell_type": "markdown",
      "metadata": {
        "id": "wHBBFxELPKV2"
      },
      "source": [
        "# Evaluation"
      ]
    },
    {
      "cell_type": "code",
      "metadata": {
        "id": "y7UTLCRLRY9R"
      },
      "source": [
        "data_path_warped = '/content/drive/MyDrive/DATASET_FINAL/Test/intermodal/Batch_1/direct_optimization_sgd_T1_F_T2_M'\n",
        "data_path_lst_warped = sorted(glob.glob(os.path.join(data_path_warped, \"*.nii.gz\")))"
      ],
      "execution_count": null,
      "outputs": []
    },
    {
      "cell_type": "code",
      "metadata": {
        "id": "ZbpGsNPCV5lT"
      },
      "source": [
        "# warped_img_tnsr = spatial_transformer_deformable(moving_img_tnsr, deformation_field)\n",
        "# warped_image_np = warped_img_tnsr.detach().to(\"cpu\").numpy()\n",
        "# plt.imshow(warped_image_np[0, 0, :, :, 55], cmap='Greys_r')"
      ],
      "execution_count": null,
      "outputs": []
    },
    {
      "cell_type": "code",
      "metadata": {
        "id": "56PE5hEaPvX3"
      },
      "source": [
        "# moving_image_np = moving_img_tnsr.to(\"cpu\").numpy()\n",
        "# fixed_image_np = fixed_img_tnsr.to(\"cpu\").numpy()"
      ],
      "execution_count": null,
      "outputs": []
    },
    {
      "cell_type": "code",
      "metadata": {
        "colab": {
          "base_uri": "https://localhost:8080/",
          "height": 34
        },
        "id": "aPsH7FWZ-5Kc",
        "outputId": "4191608e-c806-450f-c71d-cfa46ec9bb97"
      },
      "source": [
        "data_path_lst_moving[0]"
      ],
      "execution_count": null,
      "outputs": [
        {
          "output_type": "execute_result",
          "data": {
            "application/vnd.google.colaboratory.intrinsic+json": {
              "type": "string"
            },
            "text/plain": [
              "'/content/drive/MyDrive/DATASET_FINAL/Test/intermodal/Batch_1/T1_F_T2_M/T2_affine/IXI044-Guys-0712-T2.nii.gz'"
            ]
          },
          "metadata": {},
          "execution_count": 26
        }
      ]
    },
    {
      "cell_type": "code",
      "metadata": {
        "id": "7a1UBwQkR0P-"
      },
      "source": [
        "moving_image_np = run3functions(data_path_lst_moving[1])\n",
        "fixed_image_np = run3functions(data_path_lst_fixed[1])\n",
        "warped_image_np = run3functions(data_path_lst_warped[1])"
      ],
      "execution_count": null,
      "outputs": []
    },
    {
      "cell_type": "code",
      "metadata": {
        "colab": {
          "base_uri": "https://localhost:8080/",
          "height": 430
        },
        "id": "FtCNpQvzPMRg",
        "outputId": "eebf1e95-017f-4f22-940f-4e8a73d8f6d8"
      },
      "source": [
        "fig = plt.figure(figsize=(20, 15), dpi=80)\n",
        "\n",
        "#plt.subplot(1, 10, 1)\n",
        "ax1 = fig.add_subplot(131)\n",
        "ax1.title.set_text('Fixed')\n",
        "plt.imshow(fixed_image_np[0, 0, :, 51, :], cmap='Greys_r')\n",
        "\n",
        "#plt.subplot(1, 10, 2)\n",
        "\n",
        "ax2 = fig.add_subplot(132)\n",
        "ax2.title.set_text('Moving')\n",
        "plt.imshow(moving_image_np[0, 0, :, 51, :], cmap='Greys_r')\n",
        "\n",
        "\n",
        "ax3 = fig.add_subplot(133)\n",
        "ax3.title.set_text('Warped')\n",
        "#plt.subplot(1, 10, 3)\n",
        "plt.imshow(warped_image_np[0, 0, :, 51, :], cmap='Greys_r')\n",
        "\n",
        "plt.show()"
      ],
      "execution_count": null,
      "outputs": [
        {
          "output_type": "display_data",
          "data": {
            "image/png": "[encoded data removed]",
            "text/plain": [
              "<Figure size 1600x1200 with 3 Axes>"
            ]
          },
          "metadata": {
            "needs_background": "light"
          }
        }
      ]
    },
    {
      "cell_type": "code",
      "metadata": {
        "id": "GO5XBBHLPMUZ",
        "colab": {
          "base_uri": "https://localhost:8080/",
          "height": 283
        },
        "outputId": "72d1f9fb-9e8e-4212-b1e9-78b608ee909f"
      },
      "source": [
        "plt.imshow( warped_image_np[0, 0, :, 51, :]-moving_image_np[0, 0, :, 51, :] , cmap='Greys_r')"
      ],
      "execution_count": null,
      "outputs": [
        {
          "output_type": "execute_result",
          "data": {
            "text/plain": [
              "<matplotlib.image.AxesImage at 0x7faafce52750>"
            ]
          },
          "metadata": {},
          "execution_count": 48
        },
        {
          "output_type": "display_data",
          "data": {
            "image/png": "[encoded data removed]",
            "text/plain": [
              "<Figure size 432x288 with 1 Axes>"
            ]
          },
          "metadata": {
            "needs_background": "light"
          }
        }
      ]
    },
    {
      "cell_type": "code",
      "metadata": {
        "id": "tuq7d58DMb0Y"
      },
      "source": [
        "warped_image_tnsr = spatial_transformer_deformable(deformable_moving_img_tnsr, deformable_tnsr)\n",
        "warped_image_np = warped_image_tnsr.detach().to(\"cpu\").numpy()\n",
        "plt.imshow(warped_image_np[0, 0, :, 75, :])"
      ],
      "execution_count": null,
      "outputs": []
    }
  ]
}